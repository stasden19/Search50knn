{
 "cells": [
  {
   "cell_type": "code",
   "id": "initial_id",
   "metadata": {
    "collapsed": true
   },
   "source": [
    "from sklearn.feature_extraction.text import TfidfVectorizer\n",
    "import pandas as pd\n",
    "import numpy as np\n",
    "from sklearn.neighbors import NearestNeighbors"
   ],
   "outputs": [],
   "execution_count": null
  },
  {
   "metadata": {},
   "cell_type": "code",
   "source": "df = pd.read_excel('catalog1.xlsx')",
   "id": "a957d59a76a13e3d",
   "outputs": [],
   "execution_count": null
  },
  {
   "metadata": {},
   "cell_type": "code",
   "source": "df.head()",
   "id": "86bf988d68ed042a",
   "outputs": [],
   "execution_count": null
  },
  {
   "metadata": {},
   "cell_type": "code",
   "source": [
    "df['Name'] = df['Категория'].str.lower().str.cat(df['Название'].str.lower(), sep=' ')\n",
    "df.head()\n"
   ],
   "id": "59d3b2d4b4c31d9d",
   "outputs": [],
   "execution_count": null
  },
  {
   "metadata": {},
   "cell_type": "code",
   "source": [
    "documents = df['Name']\n",
    "vectorizer = TfidfVectorizer()\n",
    "tfidf_matrix = vectorizer.fit_transform(documents)\n"
   ],
   "id": "e9e222d442c11ad2",
   "outputs": [],
   "execution_count": null
  },
  {
   "metadata": {},
   "cell_type": "code",
   "source": [
    "print(\"Названия признаков (слов):\")\n",
    "print(vectorizer.get_feature_names_out())"
   ],
   "id": "9be83aae425cecb5",
   "outputs": [],
   "execution_count": null
  },
  {
   "metadata": {},
   "cell_type": "code",
   "source": [
    "n_neighbors = 3\n",
    "model = NearestNeighbors(n_neighbors=n_neighbors, metric='cosine', algorithm='brute') "
   ],
   "id": "80bbe951487898d1",
   "outputs": [],
   "execution_count": null
  },
  {
   "metadata": {},
   "cell_type": "code",
   "source": "model.fit(tfidf_matrix)",
   "id": "165cda71bbf754f3",
   "outputs": [],
   "execution_count": null
  },
  {
   "metadata": {},
   "cell_type": "code",
   "source": "distances, indices = model.kneighbors(tfidf_matrix, n_neighbors=51)  # 51 сосед",
   "id": "f4187f1b98bb5381",
   "outputs": [],
   "execution_count": null
  },
  {
   "metadata": {},
   "cell_type": "code",
   "source": "",
   "id": "766f342736a0ab6",
   "outputs": [],
   "execution_count": null
  },
  {
   "metadata": {},
   "cell_type": "code",
   "source": [
    "recommendations = {}\n",
    "for i, neighbor_indices in enumerate(indices):\n",
    "    # Фильтр: удалим сам товар (предполагаем, что он входит первым, либо найдём его индекс)\n",
    "    filtered = [idx for idx in neighbor_indices if idx != i]\n",
    "    # берем первые 50\n",
    "    recommendations[df.iloc[i]['Артикул']] = df.iloc[filtered[:50]]['Артикул'].tolist()"
   ],
   "id": "ea3ac7c13f9b6cf0",
   "outputs": [],
   "execution_count": null
  },
  {
   "metadata": {},
   "cell_type": "code",
   "source": [
    "print(recommendations[tuple(recommendations.keys())[0]])\n",
    "tuple(recommendations.keys())[0]"
   ],
   "id": "8fdf1131c084eb7e",
   "outputs": [],
   "execution_count": null
  },
  {
   "metadata": {},
   "cell_type": "code",
   "source": [
    "new_df = pd.DataFrame({\n",
    "    'A': [],\n",
    "    'B': []\n",
    "})\n",
    "with open('catalog1_done.xlsx', 'a') as f:\n",
    "    for i in range(len(recommendations.keys())):\n",
    "        for j in range(len(recommendations[tuple(recommendations.keys())[i]])):\n",
    "            new_row = f'{tuple(recommendations.keys())[i]}, {recommendations[tuple(recommendations.keys())[i]][j]}\\n'\n",
    "            f.write(new_row)"
   ],
   "id": "546e8568bb7ef85f",
   "outputs": [],
   "execution_count": null
  },
  {
   "metadata": {},
   "cell_type": "code",
   "source": "",
   "id": "600454b4afde78a",
   "outputs": [],
   "execution_count": null
  }
 ],
 "metadata": {
  "kernelspec": {
   "display_name": "Python 3",
   "language": "python",
   "name": "python3"
  },
  "language_info": {
   "codemirror_mode": {
    "name": "ipython",
    "version": 2
   },
   "file_extension": ".py",
   "mimetype": "text/x-python",
   "name": "python",
   "nbconvert_exporter": "python",
   "pygments_lexer": "ipython2",
   "version": "2.7.6"
  }
 },
 "nbformat": 4,
 "nbformat_minor": 5
}
